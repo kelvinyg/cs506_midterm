{
 "cells": [
  {
   "cell_type": "markdown",
   "metadata": {},
   "source": [
    "# Libraries"
   ]
  },
  {
   "cell_type": "code",
   "execution_count": 1,
   "metadata": {},
   "outputs": [
    {
     "name": "stdout",
     "output_type": "stream",
     "text": [
      "Requirement already satisfied: textblob in /Users/kelvinyeung/opt/anaconda3/lib/python3.9/site-packages (0.18.0.post0)\n",
      "Requirement already satisfied: nltk>=3.8 in /Users/kelvinyeung/opt/anaconda3/lib/python3.9/site-packages (from textblob) (3.9.1)\n",
      "Requirement already satisfied: click in /Users/kelvinyeung/opt/anaconda3/lib/python3.9/site-packages (from nltk>=3.8->textblob) (8.0.4)\n",
      "Requirement already satisfied: joblib in /Users/kelvinyeung/opt/anaconda3/lib/python3.9/site-packages (from nltk>=3.8->textblob) (1.4.2)\n",
      "Requirement already satisfied: regex>=2021.8.3 in /Users/kelvinyeung/opt/anaconda3/lib/python3.9/site-packages (from nltk>=3.8->textblob) (2022.3.15)\n",
      "Requirement already satisfied: tqdm in /Users/kelvinyeung/opt/anaconda3/lib/python3.9/site-packages (from nltk>=3.8->textblob) (4.64.0)\n",
      "Requirement already satisfied: nltk in /Users/kelvinyeung/opt/anaconda3/lib/python3.9/site-packages (3.9.1)\n",
      "Requirement already satisfied: tqdm in /Users/kelvinyeung/opt/anaconda3/lib/python3.9/site-packages (from nltk) (4.64.0)\n",
      "Requirement already satisfied: click in /Users/kelvinyeung/opt/anaconda3/lib/python3.9/site-packages (from nltk) (8.0.4)\n",
      "Requirement already satisfied: joblib in /Users/kelvinyeung/opt/anaconda3/lib/python3.9/site-packages (from nltk) (1.4.2)\n",
      "Requirement already satisfied: regex>=2021.8.3 in /Users/kelvinyeung/opt/anaconda3/lib/python3.9/site-packages (from nltk) (2022.3.15)\n",
      "Requirement already satisfied: imblearn in /Users/kelvinyeung/opt/anaconda3/lib/python3.9/site-packages (0.0)\n",
      "Requirement already satisfied: imbalanced-learn in /Users/kelvinyeung/opt/anaconda3/lib/python3.9/site-packages (from imblearn) (0.12.4)\n",
      "Requirement already satisfied: numpy>=1.17.3 in /Users/kelvinyeung/opt/anaconda3/lib/python3.9/site-packages (from imbalanced-learn->imblearn) (1.21.5)\n",
      "Requirement already satisfied: scikit-learn>=1.0.2 in /Users/kelvinyeung/opt/anaconda3/lib/python3.9/site-packages (from imbalanced-learn->imblearn) (1.0.2)\n",
      "Requirement already satisfied: threadpoolctl>=2.0.0 in /Users/kelvinyeung/opt/anaconda3/lib/python3.9/site-packages (from imbalanced-learn->imblearn) (2.2.0)\n",
      "Requirement already satisfied: scipy>=1.5.0 in /Users/kelvinyeung/opt/anaconda3/lib/python3.9/site-packages (from imbalanced-learn->imblearn) (1.7.3)\n",
      "Requirement already satisfied: joblib>=1.1.1 in /Users/kelvinyeung/opt/anaconda3/lib/python3.9/site-packages (from imbalanced-learn->imblearn) (1.4.2)\n"
     ]
    }
   ],
   "source": [
    "!pip install textblob\n",
    "!pip install nltk\n",
    "!pip install imblearn"
   ]
  },
  {
   "cell_type": "code",
   "execution_count": 2,
   "metadata": {},
   "outputs": [
    {
     "name": "stderr",
     "output_type": "stream",
     "text": [
      "[nltk_data] Downloading package vader_lexicon to\n",
      "[nltk_data]     /Users/kelvinyeung/nltk_data...\n",
      "[nltk_data]   Package vader_lexicon is already up-to-date!\n"
     ]
    }
   ],
   "source": [
    "import pickle\n",
    "import pandas as pd\n",
    "import numpy as np\n",
    "import seaborn as sns\n",
    "import time\n",
    "import os \n",
    "from os.path import exists\n",
    "import matplotlib.pyplot as plt\n",
    "from sklearn.linear_model import LogisticRegression\n",
    "from sklearn.neighbors import KNeighborsClassifier\n",
    "from sklearn.model_selection import train_test_split\n",
    "from sklearn.metrics import accuracy_score, confusion_matrix, classification_report, precision_score, recall_score, f1_score\n",
    "from sklearn.preprocessing import MinMaxScaler, StandardScaler\n",
    "from sklearn.decomposition import PCA, TruncatedSVD\n",
    "from sklearn.utils import resample\n",
    "from imblearn.over_sampling import SMOTE\n",
    "from imblearn.under_sampling import RandomUnderSampler\n",
    "from collections import Counter\n",
    "from scipy.sparse import csr_matrix, hstack\n",
    "from sklearn.feature_extraction.text import TfidfVectorizer\n",
    "from sklearn.feature_selection import SelectKBest, chi2, f_classif\n",
    "from textblob import TextBlob\n",
    "import nltk\n",
    "nltk.download('vader_lexicon')\n",
    "from nltk.sentiment.vader import SentimentIntensityAnalyzer\n",
    "from multiprocessing import Pool, cpu_count\n",
    "from joblib import Parallel, delayed\n",
    "from tqdm.notebook import tqdm"
   ]
  },
  {
   "cell_type": "markdown",
   "metadata": {},
   "source": [
    "# Loading the Files\n",
    "\n",
    "Download the csv files into the `data/` directory."
   ]
  },
  {
   "cell_type": "code",
   "execution_count": 3,
   "metadata": {},
   "outputs": [
    {
     "name": "stdout",
     "output_type": "stream",
     "text": [
      "train.csv shape is  (1697533, 9)\n",
      "test.csv shape is  (212192, 2)\n",
      "\n",
      "        Id   ProductId          UserId  HelpfulnessNumerator  \\\n",
      "0   914403  B0009W5KHM   AV6QDP8Q0ONK4                     2   \n",
      "1   354887  6303079709  A2I8RXJN80A2D2                     0   \n",
      "2  1407653  B004H0M2XC  A3FHV3RV8Z12E6                     0   \n",
      "3  1377458  B003ZJ9536  A12VLTA3ZHVPUY                     1   \n",
      "4   475323  630574453X  A13NM1PES9OXVN                     2   \n",
      "\n",
      "   HelpfulnessDenominator        Time  \\\n",
      "0                       2  1341014400   \n",
      "1                       0  1168819200   \n",
      "2                       0  1386201600   \n",
      "3                       1  1348704000   \n",
      "4                       3   970012800   \n",
      "\n",
      "                                         Summary  \\\n",
      "0                                  GOOD FUN FILM   \n",
      "1                                   Movie Review   \n",
      "2             When is it a good time to Consent?   \n",
      "3                                          TRUTH   \n",
      "4  Intelligent and bittersweet -- stays with you   \n",
      "\n",
      "                                                Text  Score  \n",
      "0  While most straight to DVD films are not worth...    5.0  \n",
      "1  I have wanted this one for sometime, also.  I ...    5.0  \n",
      "2  Actually this was a pretty darn good indie fil...    4.0  \n",
      "3  Episodes 37 to 72 of the series press on in a ...    5.0  \n",
      "4  I was really impressed with this movie, but wa...    3.0  \n",
      "\n",
      "        Id  Score\n",
      "0  1323432    NaN\n",
      "1  1137299    NaN\n",
      "2  1459366    NaN\n",
      "3   931601    NaN\n",
      "4  1311995    NaN\n",
      "\n",
      "                 Id  HelpfulnessNumerator  HelpfulnessDenominator  \\\n",
      "count  1.697533e+06          1.697533e+06            1.697533e+06   \n",
      "mean   8.487660e+05          3.569048e+00            5.301422e+00   \n",
      "std    4.900357e+05          1.727883e+01            2.024445e+01   \n",
      "min    0.000000e+00          0.000000e+00            0.000000e+00   \n",
      "25%    4.243830e+05          0.000000e+00            0.000000e+00   \n",
      "50%    8.487660e+05          1.000000e+00            1.000000e+00   \n",
      "75%    1.273149e+06          3.000000e+00            5.000000e+00   \n",
      "max    1.697532e+06          6.084000e+03            6.510000e+03   \n",
      "\n",
      "               Time         Score  \n",
      "count  1.697533e+06  1.485341e+06  \n",
      "mean   1.262422e+09  4.110517e+00  \n",
      "std    1.289277e+08  1.197651e+00  \n",
      "min    8.793792e+08  1.000000e+00  \n",
      "25%    1.164413e+09  4.000000e+00  \n",
      "50%    1.307491e+09  5.000000e+00  \n",
      "75%    1.373242e+09  5.000000e+00  \n",
      "max    1.406074e+09  5.000000e+00  \n"
     ]
    },
    {
     "data": {
      "image/png": "[encoded data removed]",
      "text/plain": [
       "<Figure size 432x288 with 1 Axes>"
      ]
     },
     "metadata": {
      "needs_background": "light"
     },
     "output_type": "display_data"
    },
    {
     "name": "stdout",
     "output_type": "stream",
     "text": [
      "\n",
      "EVERYTHING IS PROPERLY SET UP! YOU ARE READY TO START\n"
     ]
    }
   ],
   "source": [
    "trainingSet = pd.read_csv(\"./train.csv\")\n",
    "testingSet = pd.read_csv(\"./test.csv\")\n",
    "\n",
    "print(\"train.csv shape is \", trainingSet.shape)\n",
    "print(\"test.csv shape is \", testingSet.shape)\n",
    "\n",
    "print()\n",
    "\n",
    "print(trainingSet.head())\n",
    "print()\n",
    "print(testingSet.head())\n",
    "\n",
    "print()\n",
    "\n",
    "print(trainingSet.describe())\n",
    "\n",
    "trainingSet['Score'].value_counts().plot(kind='bar', legend=True, alpha=.5)\n",
    "plt.show()\n",
    "\n",
    "print()\n",
    "print(\"EVERYTHING IS PROPERLY SET UP! YOU ARE READY TO START\")"
   ]
  },
  {
   "cell_type": "markdown",
   "metadata": {},
   "source": [
    "# Adding Features"
   ]
  },
  {
   "cell_type": "code",
   "execution_count": 4,
   "metadata": {
    "scrolled": true
   },
   "outputs": [
    {
     "name": "stdout",
     "output_type": "stream",
     "text": [
      "Loaded preprocessed X_train with 1485341 rows.\n",
      "Loaded preprocessed X_submission with 212192 rows.\n",
      "X_submission is correctly set with the expected 212,192 rows.\n"
     ]
    }
   ],
   "source": [
    "# Define feature extraction function\n",
    "def add_features_to(df):\n",
    "    start_time = time.time()\n",
    "    print(\"Starting feature extraction...\")\n",
    "\n",
    "    # Feature 1: Helpfulness ratio\n",
    "    print(\"Calculating Helpfulness ratio...\")\n",
    "    df['Helpfulness'] = df['HelpfulnessNumerator'] / df['HelpfulnessDenominator']\n",
    "    df['Helpfulness'] = df['Helpfulness'].fillna(0)\n",
    "    print(\"Helpfulness ratio calculated.\")\n",
    "\n",
    "    # Initialize VADER for sentiment analysis\n",
    "    print(\"Initializing VADER...\")\n",
    "    sia = SentimentIntensityAnalyzer()\n",
    "\n",
    "    def sentiment_analysis(text, summary=None):\n",
    "        # Ensure text and summary are strings; if not, treat as empty strings\n",
    "        text = str(text) if isinstance(text, str) else \"\"\n",
    "        summary = str(summary) if isinstance(summary, str) else \"\"\n",
    "\n",
    "        # TextBlob Polarity score \n",
    "        blob = TextBlob(text)\n",
    "        polarity = blob.sentiment.polarity\n",
    "        vader_scores = sia.polarity_scores(text)\n",
    "        compound_score = vader_scores['compound']\n",
    "\n",
    "        contain_pos_sent = False\n",
    "        contain_neg_sent = False\n",
    "        for sentence in blob.sentences:\n",
    "            sentence_polarity = sentence.sentiment.polarity\n",
    "            if sentence_polarity > 0:\n",
    "                contain_pos_sent = True\n",
    "            elif sentence_polarity < 0:\n",
    "                contain_neg_sent = True\n",
    "        mixed_review = contain_pos_sent and contain_neg_sent\n",
    "\n",
    "        # Polarity score of summary \n",
    "        summary_polarity = TextBlob(summary).sentiment.polarity if summary else None\n",
    "        return polarity, compound_score, mixed_review, summary_polarity\n",
    "\n",
    "    # Feature 2-5: Parallelized Sentiment Analysis with Progress Bar\n",
    "    print(\"Starting parallel sentiment analysis on reviews...\")\n",
    "    sentiment_data = Parallel(n_jobs=-1)(\n",
    "        delayed(sentiment_analysis)(row['Text'], row['Summary']) \n",
    "        for _, row in tqdm(df.iterrows(), total=len(df), desc=\"Sentiment Analysis Progress\")\n",
    "    )\n",
    "    df[['Polarity', 'CompoundScore', 'MixedSentiment', 'SummaryPolarity']] = pd.DataFrame(sentiment_data, index=df.index)\n",
    "    print(\"Sentiment analysis features completed.\")\n",
    "\n",
    "    # Feature 6-7: User Sentiment Tendency and User Is Critical\n",
    "    print(\"Calculating UserSentimentTendency and UserIsCritical...\")\n",
    "    user_avg_sentiment = df.groupby('UserId')['Polarity'].transform('mean')\n",
    "    df['UserSentimentTendency'] = user_avg_sentiment\n",
    "    df['UserIsCritical'] = user_avg_sentiment < user_avg_sentiment.median()\n",
    "    print(\"UserSentimentTendency and UserIsCritical calculated.\")\n",
    "\n",
    "    # Feature 8: User Helpfulness Avg\n",
    "    print(\"Calculating UserHelpfulnessAvg...\")\n",
    "    user_helpfulness_avg = df.groupby('UserId')['Helpfulness'].transform('mean')\n",
    "    df['UserHelpfulnessAvg'] = user_helpfulness_avg\n",
    "    print(\"UserHelpfulnessAvg calculated.\")\n",
    "\n",
    "    # Feature 9: Product Popularity\n",
    "    print(\"Calculating ProductPopularity...\")\n",
    "    product_review_count = df.groupby('ProductId')['Id'].transform('count')\n",
    "    df['ProductPopularity'] = product_review_count\n",
    "    print(\"ProductPopularity calculated.\")\n",
    "\n",
    "    # Feature 10: Review Length (number of words in the review text)\n",
    "    print(\"Calculating ReviewLength...\")\n",
    "    df['ReviewLength'] = df['Text'].apply(lambda x: len(str(x).split()) if isinstance(x, str) else 0)\n",
    "    print(\"ReviewLength calculated.\")\n",
    "    \n",
    "    # TF-IDF for Text and Summary\n",
    "    print(\"Vectorizing Text and Summary with TF-IDF...\")\n",
    "    tfidf_text = TfidfVectorizer(max_features=500)\n",
    "    tfidf_summary = TfidfVectorizer(max_features=250)\n",
    "\n",
    "    # Fit-transform for Text and Summary with NaN handling\n",
    "    text_tfidf = tfidf_text.fit_transform(df['Text'].fillna(''))\n",
    "    summary_tfidf = tfidf_summary.fit_transform(df['Summary'].fillna(''))\n",
    "\n",
    "    # Combine text and summary TF-IDF matrices horizontally\n",
    "    print(\"Combining Text and Summary TF-IDF matrices...\")\n",
    "    combined_tfidf = hstack([text_tfidf, summary_tfidf])\n",
    "\n",
    "    # Apply TruncatedSVD to reduce dimensionality\n",
    "    print(\"Applying TruncatedSVD to reduce dimensionality of TF-IDF features...\")\n",
    "    svd = TruncatedSVD(n_components=50, random_state=42)\n",
    "    tfidf_svd = svd.fit_transform(combined_tfidf)\n",
    "    print(f\"Explained variance ratio sum with 50 components: {svd.explained_variance_ratio_.sum():.4f}\")\n",
    "\n",
    "    # Create a DataFrame with the SVD components\n",
    "    print(\"Creating DataFrame with SVD components...\")\n",
    "    svd_columns = [f'svd_tfidf_{i+1}' for i in range(tfidf_svd.shape[1])]\n",
    "    tfidf_svd_df = pd.DataFrame(tfidf_svd, columns=svd_columns, index=df.index)\n",
    "\n",
    "    # Concatenate SVD components with df\n",
    "    print(\"Concatenating SVD components with the original DataFrame...\")\n",
    "    df = pd.concat([df.reset_index(drop=True), tfidf_svd_df.reset_index(drop=True)], axis=1)\n",
    "\n",
    "    # Optionally drop the original 'Text' and 'Summary' columns\n",
    "    print(\"Dropping original 'Text' and 'Summary' columns...\")\n",
    "    df = df.drop(columns=['Text', 'Summary'])\n",
    "\n",
    "    # Track total feature count\n",
    "    total_features = len(df.columns) - 2  # Excluding 'Id' and 'Score' if present\n",
    "    print(f\"Total features added: {total_features}\")\n",
    "    print(f\"Feature extraction complete. Total time: {time.time() - start_time:.2f} seconds\")\n",
    "    \n",
    "    return df\n",
    "\n",
    "# Load the feature extracted files if they've already been generated\n",
    "if os.path.exists('./X_train.csv') and os.path.exists('./X_submission.csv'):\n",
    "    X_train = pd.read_csv(\"./X_train.csv\")\n",
    "    X_submission = pd.read_csv(\"./X_submission.csv\")\n",
    "    print(f\"Loaded preprocessed X_train with {len(X_train)} rows.\")\n",
    "    print(f\"Loaded preprocessed X_submission with {len(X_submission)} rows.\")\n",
    "else:\n",
    "    # Step 1: Process the full training set for feature extraction\n",
    "    train = add_features_to(trainingSet)\n",
    "    print(\"Feature extraction on training data completed.\")\n",
    "\n",
    "    # Step 2: Create the training set by filtering rows with known `Score`\n",
    "    X_train = train[train['Score'].notnull()]\n",
    "    print(f\"Using the full training set with {len(X_train)} rows for training.\")\n",
    "\n",
    "    # Step 3: Merge on 'Id' to create the submission set with feature columns as well\n",
    "    testingSet = pd.read_csv('test.csv')  # Load `test.csv`\n",
    "    X_submission = pd.merge(train, testingSet[['Id']], left_on='Id', right_on='Id')\n",
    "    print(f\"X_submission prepared with {len(X_submission)} rows after merging.\")\n",
    "\n",
    "    # Step 4: Drop `Score` from `X_submission`, as it’s unknown\n",
    "    if 'Score' in X_submission.columns:\n",
    "        X_submission = X_submission.drop(columns=['Score'])\n",
    "\n",
    "    # Save the processed datasets for future reuse\n",
    "    X_train.to_csv(\"./X_train.csv\", index=False)\n",
    "    X_submission.to_csv(\"./X_submission.csv\", index=False)\n",
    "    print(\"Saved processed X_train (full dataset) and X_submission files.\")\n",
    "\n",
    "# Verification step to ensure correct row counts for `X_submission`\n",
    "expected_rows = 212192\n",
    "actual_rows = len(X_submission)\n",
    "assert actual_rows == expected_rows, f\"Row count mismatch: X_submission has {actual_rows} rows; expected {expected_rows}.\"\n",
    "print(\"X_submission is correctly set with the expected 212,192 rows.\")\n",
    "\n",
    "\n"
   ]
  },
  {
   "cell_type": "markdown",
   "metadata": {},
   "source": [
    "# Sample + Split into training and testing set"
   ]
  },
  {
   "cell_type": "code",
   "execution_count": 5,
   "metadata": {},
   "outputs": [
    {
     "name": "stdout",
     "output_type": "stream",
     "text": [
      "Columns in X_train after feature extraction: Index(['Id', 'ProductId', 'UserId', 'HelpfulnessNumerator',\n",
      "       'HelpfulnessDenominator', 'Time', 'Score', 'Helpfulness', 'Polarity',\n",
      "       'CompoundScore', 'MixedSentiment', 'SummaryPolarity',\n",
      "       'UserSentimentTendency', 'UserIsCritical', 'UserHelpfulnessAvg',\n",
      "       'ProductPopularity', 'ReviewLength', 'svd_tfidf_1', 'svd_tfidf_2',\n",
      "       'svd_tfidf_3', 'svd_tfidf_4', 'svd_tfidf_5', 'svd_tfidf_6',\n",
      "       'svd_tfidf_7', 'svd_tfidf_8', 'svd_tfidf_9', 'svd_tfidf_10',\n",
      "       'svd_tfidf_11', 'svd_tfidf_12', 'svd_tfidf_13', 'svd_tfidf_14',\n",
      "       'svd_tfidf_15', 'svd_tfidf_16', 'svd_tfidf_17', 'svd_tfidf_18',\n",
      "       'svd_tfidf_19', 'svd_tfidf_20', 'svd_tfidf_21', 'svd_tfidf_22',\n",
      "       'svd_tfidf_23', 'svd_tfidf_24', 'svd_tfidf_25', 'svd_tfidf_26',\n",
      "       'svd_tfidf_27', 'svd_tfidf_28', 'svd_tfidf_29', 'svd_tfidf_30',\n",
      "       'svd_tfidf_31', 'svd_tfidf_32', 'svd_tfidf_33', 'svd_tfidf_34',\n",
      "       'svd_tfidf_35', 'svd_tfidf_36', 'svd_tfidf_37', 'svd_tfidf_38',\n",
      "       'svd_tfidf_39', 'svd_tfidf_40', 'svd_tfidf_41', 'svd_tfidf_42',\n",
      "       'svd_tfidf_43', 'svd_tfidf_44', 'svd_tfidf_45', 'svd_tfidf_46',\n",
      "       'svd_tfidf_47', 'svd_tfidf_48', 'svd_tfidf_49', 'svd_tfidf_50'],\n",
      "      dtype='object')\n"
     ]
    }
   ],
   "source": [
    "print(\"Columns in X_train after feature extraction:\", X_train.columns)"
   ]
  },
  {
   "cell_type": "code",
   "execution_count": 6,
   "metadata": {},
   "outputs": [],
   "source": [
    "# Split training set into training and testing set\n",
    "X_train, X_test, Y_train, Y_test = train_test_split(\n",
    "    X_train.drop(columns=['Score']),\n",
    "    X_train['Score'],\n",
    "    test_size=1/4.0,\n",
    "    random_state=0\n",
    ")\n"
   ]
  },
  {
   "cell_type": "code",
   "execution_count": 7,
   "metadata": {
    "scrolled": true
   },
   "outputs": [
    {
     "name": "stdout",
     "output_type": "stream",
     "text": [
      "Class distribution after SMOTE:\n",
      "5.0    595120\n",
      "2.0    595120\n",
      "1.0    595120\n",
      "4.0    595120\n",
      "3.0    595120\n",
      "Name: Score, dtype: int64\n"
     ]
    }
   ],
   "source": [
    "from sklearn.impute import SimpleImputer\n",
    "\n",
    "# Define the features list, including all numeric columns\n",
    "features = ['Helpfulness', 'CompoundScore', 'SummaryPolarity',\n",
    "            'UserSentimentTendency', 'UserHelpfulnessAvg', 'ProductPopularity', 'Polarity', 'ReviewLength']\n",
    "\n",
    "# Ensure no NaN or infinite values are present\n",
    "X_train[features] = X_train[features].fillna(0)\n",
    "X_train[features] = X_train[features].replace([np.inf, -np.inf], 0)\n",
    "\n",
    "# Convert sparse columns (like TF-IDF) to dense if they exist\n",
    "X_train_dense = X_train[features].apply(lambda x: x.sparse.to_dense() if x.dtype == \"Sparse\" else x)\n",
    "\n",
    "# Initialize SMOTE\n",
    "smote = SMOTE(random_state=0)\n",
    "\n",
    "# Apply SMOTE to balance the classes in the training set\n",
    "X_train_balanced, Y_train_balanced = smote.fit_resample(X_train_dense, Y_train)\n",
    "\n",
    "# Check the class distribution after SMOTE\n",
    "print(\"Class distribution after SMOTE:\")\n",
    "print(Y_train_balanced.value_counts())"
   ]
  },
  {
   "cell_type": "markdown",
   "metadata": {},
   "source": [
    "# Feature Selection"
   ]
  },
  {
   "cell_type": "code",
   "execution_count": 12,
   "metadata": {},
   "outputs": [
    {
     "name": "stdout",
     "output_type": "stream",
     "text": [
      "Shapes before feature selection:\n",
      "X_train shape: (1114005, 66)\n",
      "X_test shape: (371336, 66)\n",
      "X_submission shape: (212192, 66)\n",
      "Original training data shape: (1114005, 66)\n",
      "Downsampled training data shape: (100000, 66)\n",
      "Selecting top 15 SVD/TF-IDF features based on importance...\n",
      "Features selected for model training: ['Helpfulness', 'CompoundScore', 'SummaryPolarity', 'UserSentimentTendency', 'UserHelpfulnessAvg', 'ProductPopularity', 'Polarity', 'ReviewLength', 'svd_tfidf_1', 'svd_tfidf_2', 'svd_tfidf_3', 'svd_tfidf_4', 'svd_tfidf_7', 'svd_tfidf_9', 'svd_tfidf_10', 'svd_tfidf_11', 'svd_tfidf_12', 'svd_tfidf_17', 'svd_tfidf_22', 'svd_tfidf_23', 'svd_tfidf_32', 'svd_tfidf_36', 'svd_tfidf_43']\n",
      "Reduced training data shape: (100000, 23)\n",
      "Reduced test data shape: (371336, 23)\n"
     ]
    }
   ],
   "source": [
    "# Confirm shapes before feature selection\n",
    "print(\"Shapes before feature selection:\")\n",
    "print(f\"X_train shape: {X_train.shape}\")\n",
    "print(f\"X_test shape: {X_test.shape}\")\n",
    "print(f\"X_submission shape: {X_submission.shape}\")\n",
    "\n",
    "# Parameters for sampling\n",
    "sample_size = 100000  # Adjusted sample size\n",
    "additional_features = 15  # Number of additional SVD/TF-IDF features to keep\n",
    "\n",
    "# Define your selected original features\n",
    "original_features = ['Helpfulness', 'CompoundScore', 'SummaryPolarity',\n",
    "                     'UserSentimentTendency', 'UserHelpfulnessAvg',\n",
    "                     'ProductPopularity', 'Polarity', 'ReviewLength']\n",
    "\n",
    "# Step 1: Downsample the training dataset\n",
    "print(f\"Original training data shape: {X_train.shape}\")\n",
    "X_train_sampled = X_train.sample(n=sample_size, random_state=42)\n",
    "Y_train_sampled = Y_train.loc[X_train_sampled.index]  # Ensure labels match sampled rows\n",
    "print(f\"Downsampled training data shape: {X_train_sampled.shape}\")\n",
    "\n",
    "# Step 2: Identify TF-IDF/SVD columns\n",
    "svd_features = [col for col in X_train.columns if 'svd_tfidf' in col]\n",
    "\n",
    "# Step 3: Apply SelectKBest to choose the top 30 SVD features\n",
    "print(\"Selecting top 15 SVD/TF-IDF features based on importance...\")\n",
    "selector = SelectKBest(score_func=f_classif, k=additional_features)\n",
    "X_train_svd_selected = selector.fit_transform(X_train_sampled[svd_features], Y_train_sampled)\n",
    "selected_svd_feature_indices = selector.get_support(indices=True)\n",
    "selected_svd_features = [svd_features[i] for i in selected_svd_feature_indices]\n",
    "\n",
    "# Combine original features with the top 30 SVD/TF-IDF features\n",
    "selected_features = original_features + selected_svd_features\n",
    "X_train_sampled = X_train_sampled[selected_features]\n",
    "X_test_reduced = X_test[selected_features]\n",
    "\n",
    "print(f\"Features selected for model training: {selected_features}\")\n",
    "print(f\"Reduced training data shape: {X_train_sampled.shape}\")\n",
    "print(f\"Reduced test data shape: {X_test_reduced.shape}\")\n",
    "\n",
    "# Step 4: Scale the downsampled data if needed\n",
    "scaler = StandardScaler()\n",
    "X_train_sampled_scaled = scaler.fit_transform(X_train_sampled)\n",
    "X_test_reduced_scaled = scaler.transform(X_test_reduced)"
   ]
  },
  {
   "cell_type": "markdown",
   "metadata": {},
   "source": [
    "# Model Creation"
   ]
  },
  {
   "cell_type": "code",
   "execution_count": 13,
   "metadata": {},
   "outputs": [
    {
     "name": "stdout",
     "output_type": "stream",
     "text": [
      "Checking for NaN and infinity values in scaled data...\n",
      "Data cleaned.\n",
      "\n",
      "=== TESTING DIFFERENT VALUES OF n_neighbors ===\n",
      "\n",
      "Testing n_neighbors=20...\n",
      "Accuracy with n_neighbors=20: 0.5684 (Time taken: 823.48 seconds)\n",
      "\n",
      "Testing n_neighbors=50...\n"
     ]
    },
    {
     "ename": "KeyboardInterrupt",
     "evalue": "",
     "output_type": "error",
     "traceback": [
      "\u001b[0;31m---------------------------------------------------------------------------\u001b[0m",
      "\u001b[0;31mKeyboardInterrupt\u001b[0m                         Traceback (most recent call last)",
      "Input \u001b[0;32mIn [13]\u001b[0m, in \u001b[0;36m<cell line: 14>\u001b[0;34m()\u001b[0m\n\u001b[1;32m     22\u001b[0m model\u001b[38;5;241m.\u001b[39mfit(X_train_sampled_scaled, Y_train_sampled)\n\u001b[1;32m     24\u001b[0m \u001b[38;5;66;03m# Predict on the reduced and scaled test set\u001b[39;00m\n\u001b[0;32m---> 25\u001b[0m Y_test_predictions \u001b[38;5;241m=\u001b[39m \u001b[43mmodel\u001b[49m\u001b[38;5;241;43m.\u001b[39;49m\u001b[43mpredict\u001b[49m\u001b[43m(\u001b[49m\u001b[43mX_test_reduced_scaled\u001b[49m\u001b[43m)\u001b[49m\n\u001b[1;32m     27\u001b[0m \u001b[38;5;66;03m# Calculate and store the accuracy\u001b[39;00m\n\u001b[1;32m     28\u001b[0m accuracy \u001b[38;5;241m=\u001b[39m accuracy_score(Y_test, Y_test_predictions)\n",
      "File \u001b[0;32m~/opt/anaconda3/lib/python3.9/site-packages/sklearn/neighbors/_classification.py:214\u001b[0m, in \u001b[0;36mKNeighborsClassifier.predict\u001b[0;34m(self, X)\u001b[0m\n\u001b[1;32m    200\u001b[0m \u001b[38;5;28;01mdef\u001b[39;00m \u001b[38;5;21mpredict\u001b[39m(\u001b[38;5;28mself\u001b[39m, X):\n\u001b[1;32m    201\u001b[0m     \u001b[38;5;124;03m\"\"\"Predict the class labels for the provided data.\u001b[39;00m\n\u001b[1;32m    202\u001b[0m \n\u001b[1;32m    203\u001b[0m \u001b[38;5;124;03m    Parameters\u001b[39;00m\n\u001b[0;32m   (...)\u001b[0m\n\u001b[1;32m    212\u001b[0m \u001b[38;5;124;03m        Class labels for each data sample.\u001b[39;00m\n\u001b[1;32m    213\u001b[0m \u001b[38;5;124;03m    \"\"\"\u001b[39;00m\n\u001b[0;32m--> 214\u001b[0m     neigh_dist, neigh_ind \u001b[38;5;241m=\u001b[39m \u001b[38;5;28;43mself\u001b[39;49m\u001b[38;5;241;43m.\u001b[39;49m\u001b[43mkneighbors\u001b[49m\u001b[43m(\u001b[49m\u001b[43mX\u001b[49m\u001b[43m)\u001b[49m\n\u001b[1;32m    215\u001b[0m     classes_ \u001b[38;5;241m=\u001b[39m \u001b[38;5;28mself\u001b[39m\u001b[38;5;241m.\u001b[39mclasses_\n\u001b[1;32m    216\u001b[0m     _y \u001b[38;5;241m=\u001b[39m \u001b[38;5;28mself\u001b[39m\u001b[38;5;241m.\u001b[39m_y\n",
      "File \u001b[0;32m~/opt/anaconda3/lib/python3.9/site-packages/sklearn/neighbors/_base.py:752\u001b[0m, in \u001b[0;36mKNeighborsMixin.kneighbors\u001b[0;34m(self, X, n_neighbors, return_distance)\u001b[0m\n\u001b[1;32m    749\u001b[0m     \u001b[38;5;28;01melse\u001b[39;00m:\n\u001b[1;32m    750\u001b[0m         kwds \u001b[38;5;241m=\u001b[39m \u001b[38;5;28mself\u001b[39m\u001b[38;5;241m.\u001b[39meffective_metric_params_\n\u001b[0;32m--> 752\u001b[0m     chunked_results \u001b[38;5;241m=\u001b[39m \u001b[38;5;28;43mlist\u001b[39;49m\u001b[43m(\u001b[49m\n\u001b[1;32m    753\u001b[0m \u001b[43m        \u001b[49m\u001b[43mpairwise_distances_chunked\u001b[49m\u001b[43m(\u001b[49m\n\u001b[1;32m    754\u001b[0m \u001b[43m            \u001b[49m\u001b[43mX\u001b[49m\u001b[43m,\u001b[49m\n\u001b[1;32m    755\u001b[0m \u001b[43m            \u001b[49m\u001b[38;5;28;43mself\u001b[39;49m\u001b[38;5;241;43m.\u001b[39;49m\u001b[43m_fit_X\u001b[49m\u001b[43m,\u001b[49m\n\u001b[1;32m    756\u001b[0m \u001b[43m            \u001b[49m\u001b[43mreduce_func\u001b[49m\u001b[38;5;241;43m=\u001b[39;49m\u001b[43mreduce_func\u001b[49m\u001b[43m,\u001b[49m\n\u001b[1;32m    757\u001b[0m \u001b[43m            \u001b[49m\u001b[43mmetric\u001b[49m\u001b[38;5;241;43m=\u001b[39;49m\u001b[38;5;28;43mself\u001b[39;49m\u001b[38;5;241;43m.\u001b[39;49m\u001b[43meffective_metric_\u001b[49m\u001b[43m,\u001b[49m\n\u001b[1;32m    758\u001b[0m \u001b[43m            \u001b[49m\u001b[43mn_jobs\u001b[49m\u001b[38;5;241;43m=\u001b[39;49m\u001b[43mn_jobs\u001b[49m\u001b[43m,\u001b[49m\n\u001b[1;32m    759\u001b[0m \u001b[43m            \u001b[49m\u001b[38;5;241;43m*\u001b[39;49m\u001b[38;5;241;43m*\u001b[39;49m\u001b[43mkwds\u001b[49m\u001b[43m,\u001b[49m\n\u001b[1;32m    760\u001b[0m \u001b[43m        \u001b[49m\u001b[43m)\u001b[49m\n\u001b[1;32m    761\u001b[0m \u001b[43m    \u001b[49m\u001b[43m)\u001b[49m\n\u001b[1;32m    763\u001b[0m \u001b[38;5;28;01melif\u001b[39;00m \u001b[38;5;28mself\u001b[39m\u001b[38;5;241m.\u001b[39m_fit_method \u001b[38;5;129;01min\u001b[39;00m [\u001b[38;5;124m\"\u001b[39m\u001b[38;5;124mball_tree\u001b[39m\u001b[38;5;124m\"\u001b[39m, \u001b[38;5;124m\"\u001b[39m\u001b[38;5;124mkd_tree\u001b[39m\u001b[38;5;124m\"\u001b[39m]:\n\u001b[1;32m    764\u001b[0m     \u001b[38;5;28;01mif\u001b[39;00m issparse(X):\n",
      "File \u001b[0;32m~/opt/anaconda3/lib/python3.9/site-packages/sklearn/metrics/pairwise.py:1717\u001b[0m, in \u001b[0;36mpairwise_distances_chunked\u001b[0;34m(X, Y, reduce_func, metric, n_jobs, working_memory, **kwds)\u001b[0m\n\u001b[1;32m   1715\u001b[0m \u001b[38;5;28;01melse\u001b[39;00m:\n\u001b[1;32m   1716\u001b[0m     X_chunk \u001b[38;5;241m=\u001b[39m X[sl]\n\u001b[0;32m-> 1717\u001b[0m D_chunk \u001b[38;5;241m=\u001b[39m \u001b[43mpairwise_distances\u001b[49m\u001b[43m(\u001b[49m\u001b[43mX_chunk\u001b[49m\u001b[43m,\u001b[49m\u001b[43m \u001b[49m\u001b[43mY\u001b[49m\u001b[43m,\u001b[49m\u001b[43m \u001b[49m\u001b[43mmetric\u001b[49m\u001b[38;5;241;43m=\u001b[39;49m\u001b[43mmetric\u001b[49m\u001b[43m,\u001b[49m\u001b[43m \u001b[49m\u001b[43mn_jobs\u001b[49m\u001b[38;5;241;43m=\u001b[39;49m\u001b[43mn_jobs\u001b[49m\u001b[43m,\u001b[49m\u001b[43m \u001b[49m\u001b[38;5;241;43m*\u001b[39;49m\u001b[38;5;241;43m*\u001b[39;49m\u001b[43mkwds\u001b[49m\u001b[43m)\u001b[49m\n\u001b[1;32m   1718\u001b[0m \u001b[38;5;28;01mif\u001b[39;00m (X \u001b[38;5;129;01mis\u001b[39;00m Y \u001b[38;5;129;01mor\u001b[39;00m Y \u001b[38;5;129;01mis\u001b[39;00m \u001b[38;5;28;01mNone\u001b[39;00m) \u001b[38;5;129;01mand\u001b[39;00m PAIRWISE_DISTANCE_FUNCTIONS\u001b[38;5;241m.\u001b[39mget(\n\u001b[1;32m   1719\u001b[0m     metric, \u001b[38;5;28;01mNone\u001b[39;00m\n\u001b[1;32m   1720\u001b[0m ) \u001b[38;5;129;01mis\u001b[39;00m euclidean_distances:\n\u001b[1;32m   1721\u001b[0m     \u001b[38;5;66;03m# zeroing diagonal, taking care of aliases of \"euclidean\",\u001b[39;00m\n\u001b[1;32m   1722\u001b[0m     \u001b[38;5;66;03m# i.e. \"l2\"\u001b[39;00m\n\u001b[1;32m   1723\u001b[0m     D_chunk\u001b[38;5;241m.\u001b[39mflat[sl\u001b[38;5;241m.\u001b[39mstart :: _num_samples(X) \u001b[38;5;241m+\u001b[39m \u001b[38;5;241m1\u001b[39m] \u001b[38;5;241m=\u001b[39m \u001b[38;5;241m0\u001b[39m\n",
      "File \u001b[0;32m~/opt/anaconda3/lib/python3.9/site-packages/sklearn/metrics/pairwise.py:1889\u001b[0m, in \u001b[0;36mpairwise_distances\u001b[0;34m(X, Y, metric, n_jobs, force_all_finite, **kwds)\u001b[0m\n\u001b[1;32m   1886\u001b[0m         \u001b[38;5;28;01mreturn\u001b[39;00m distance\u001b[38;5;241m.\u001b[39msquareform(distance\u001b[38;5;241m.\u001b[39mpdist(X, metric\u001b[38;5;241m=\u001b[39mmetric, \u001b[38;5;241m*\u001b[39m\u001b[38;5;241m*\u001b[39mkwds))\n\u001b[1;32m   1887\u001b[0m     func \u001b[38;5;241m=\u001b[39m partial(distance\u001b[38;5;241m.\u001b[39mcdist, metric\u001b[38;5;241m=\u001b[39mmetric, \u001b[38;5;241m*\u001b[39m\u001b[38;5;241m*\u001b[39mkwds)\n\u001b[0;32m-> 1889\u001b[0m \u001b[38;5;28;01mreturn\u001b[39;00m \u001b[43m_parallel_pairwise\u001b[49m\u001b[43m(\u001b[49m\u001b[43mX\u001b[49m\u001b[43m,\u001b[49m\u001b[43m \u001b[49m\u001b[43mY\u001b[49m\u001b[43m,\u001b[49m\u001b[43m \u001b[49m\u001b[43mfunc\u001b[49m\u001b[43m,\u001b[49m\u001b[43m \u001b[49m\u001b[43mn_jobs\u001b[49m\u001b[43m,\u001b[49m\u001b[43m \u001b[49m\u001b[38;5;241;43m*\u001b[39;49m\u001b[38;5;241;43m*\u001b[39;49m\u001b[43mkwds\u001b[49m\u001b[43m)\u001b[49m\n",
      "File \u001b[0;32m~/opt/anaconda3/lib/python3.9/site-packages/sklearn/metrics/pairwise.py:1430\u001b[0m, in \u001b[0;36m_parallel_pairwise\u001b[0;34m(X, Y, func, n_jobs, **kwds)\u001b[0m\n\u001b[1;32m   1427\u001b[0m X, Y, dtype \u001b[38;5;241m=\u001b[39m _return_float_dtype(X, Y)\n\u001b[1;32m   1429\u001b[0m \u001b[38;5;28;01mif\u001b[39;00m effective_n_jobs(n_jobs) \u001b[38;5;241m==\u001b[39m \u001b[38;5;241m1\u001b[39m:\n\u001b[0;32m-> 1430\u001b[0m     \u001b[38;5;28;01mreturn\u001b[39;00m \u001b[43mfunc\u001b[49m\u001b[43m(\u001b[49m\u001b[43mX\u001b[49m\u001b[43m,\u001b[49m\u001b[43m \u001b[49m\u001b[43mY\u001b[49m\u001b[43m,\u001b[49m\u001b[43m \u001b[49m\u001b[38;5;241;43m*\u001b[39;49m\u001b[38;5;241;43m*\u001b[39;49m\u001b[43mkwds\u001b[49m\u001b[43m)\u001b[49m\n\u001b[1;32m   1432\u001b[0m \u001b[38;5;66;03m# enforce a threading backend to prevent data communication overhead\u001b[39;00m\n\u001b[1;32m   1433\u001b[0m fd \u001b[38;5;241m=\u001b[39m delayed(_dist_wrapper)\n",
      "File \u001b[0;32m~/opt/anaconda3/lib/python3.9/site-packages/sklearn/metrics/pairwise.py:330\u001b[0m, in \u001b[0;36meuclidean_distances\u001b[0;34m(X, Y, Y_norm_squared, squared, X_norm_squared)\u001b[0m\n\u001b[1;32m    324\u001b[0m     \u001b[38;5;28;01mif\u001b[39;00m Y_norm_squared\u001b[38;5;241m.\u001b[39mshape \u001b[38;5;241m!=\u001b[39m (\u001b[38;5;241m1\u001b[39m, Y\u001b[38;5;241m.\u001b[39mshape[\u001b[38;5;241m0\u001b[39m]):\n\u001b[1;32m    325\u001b[0m         \u001b[38;5;28;01mraise\u001b[39;00m \u001b[38;5;167;01mValueError\u001b[39;00m(\n\u001b[1;32m    326\u001b[0m             \u001b[38;5;124mf\u001b[39m\u001b[38;5;124m\"\u001b[39m\u001b[38;5;124mIncompatible dimensions for Y of shape \u001b[39m\u001b[38;5;132;01m{\u001b[39;00mY\u001b[38;5;241m.\u001b[39mshape\u001b[38;5;132;01m}\u001b[39;00m\u001b[38;5;124m and \u001b[39m\u001b[38;5;124m\"\u001b[39m\n\u001b[1;32m    327\u001b[0m             \u001b[38;5;124mf\u001b[39m\u001b[38;5;124m\"\u001b[39m\u001b[38;5;124mY_norm_squared of shape \u001b[39m\u001b[38;5;132;01m{\u001b[39;00moriginal_shape\u001b[38;5;132;01m}\u001b[39;00m\u001b[38;5;124m.\u001b[39m\u001b[38;5;124m\"\u001b[39m\n\u001b[1;32m    328\u001b[0m         )\n\u001b[0;32m--> 330\u001b[0m \u001b[38;5;28;01mreturn\u001b[39;00m \u001b[43m_euclidean_distances\u001b[49m\u001b[43m(\u001b[49m\u001b[43mX\u001b[49m\u001b[43m,\u001b[49m\u001b[43m \u001b[49m\u001b[43mY\u001b[49m\u001b[43m,\u001b[49m\u001b[43m \u001b[49m\u001b[43mX_norm_squared\u001b[49m\u001b[43m,\u001b[49m\u001b[43m \u001b[49m\u001b[43mY_norm_squared\u001b[49m\u001b[43m,\u001b[49m\u001b[43m \u001b[49m\u001b[43msquared\u001b[49m\u001b[43m)\u001b[49m\n",
      "File \u001b[0;32m~/opt/anaconda3/lib/python3.9/site-packages/sklearn/metrics/pairwise.py:371\u001b[0m, in \u001b[0;36m_euclidean_distances\u001b[0;34m(X, Y, X_norm_squared, Y_norm_squared, squared)\u001b[0m\n\u001b[1;32m    368\u001b[0m     distances \u001b[38;5;241m=\u001b[39m _euclidean_distances_upcast(X, XX, Y, YY)\n\u001b[1;32m    369\u001b[0m \u001b[38;5;28;01melse\u001b[39;00m:\n\u001b[1;32m    370\u001b[0m     \u001b[38;5;66;03m# if dtype is already float64, no need to chunk and upcast\u001b[39;00m\n\u001b[0;32m--> 371\u001b[0m     distances \u001b[38;5;241m=\u001b[39m \u001b[38;5;241m-\u001b[39m\u001b[38;5;241m2\u001b[39m \u001b[38;5;241m*\u001b[39m \u001b[43msafe_sparse_dot\u001b[49m\u001b[43m(\u001b[49m\u001b[43mX\u001b[49m\u001b[43m,\u001b[49m\u001b[43m \u001b[49m\u001b[43mY\u001b[49m\u001b[38;5;241;43m.\u001b[39;49m\u001b[43mT\u001b[49m\u001b[43m,\u001b[49m\u001b[43m \u001b[49m\u001b[43mdense_output\u001b[49m\u001b[38;5;241;43m=\u001b[39;49m\u001b[38;5;28;43;01mTrue\u001b[39;49;00m\u001b[43m)\u001b[49m\n\u001b[1;32m    372\u001b[0m     distances \u001b[38;5;241m+\u001b[39m\u001b[38;5;241m=\u001b[39m XX\n\u001b[1;32m    373\u001b[0m     distances \u001b[38;5;241m+\u001b[39m\u001b[38;5;241m=\u001b[39m YY\n",
      "File \u001b[0;32m~/opt/anaconda3/lib/python3.9/site-packages/sklearn/utils/extmath.py:153\u001b[0m, in \u001b[0;36msafe_sparse_dot\u001b[0;34m(a, b, dense_output)\u001b[0m\n\u001b[1;32m    151\u001b[0m         ret \u001b[38;5;241m=\u001b[39m np\u001b[38;5;241m.\u001b[39mdot(a, b)\n\u001b[1;32m    152\u001b[0m \u001b[38;5;28;01melse\u001b[39;00m:\n\u001b[0;32m--> 153\u001b[0m     ret \u001b[38;5;241m=\u001b[39m \u001b[43ma\u001b[49m\u001b[43m \u001b[49m\u001b[38;5;241;43m@\u001b[39;49m\u001b[43m \u001b[49m\u001b[43mb\u001b[49m\n\u001b[1;32m    155\u001b[0m \u001b[38;5;28;01mif\u001b[39;00m (\n\u001b[1;32m    156\u001b[0m     sparse\u001b[38;5;241m.\u001b[39missparse(a)\n\u001b[1;32m    157\u001b[0m     \u001b[38;5;129;01mand\u001b[39;00m sparse\u001b[38;5;241m.\u001b[39missparse(b)\n\u001b[1;32m    158\u001b[0m     \u001b[38;5;129;01mand\u001b[39;00m dense_output\n\u001b[1;32m    159\u001b[0m     \u001b[38;5;129;01mand\u001b[39;00m \u001b[38;5;28mhasattr\u001b[39m(ret, \u001b[38;5;124m\"\u001b[39m\u001b[38;5;124mtoarray\u001b[39m\u001b[38;5;124m\"\u001b[39m)\n\u001b[1;32m    160\u001b[0m ):\n\u001b[1;32m    161\u001b[0m     \u001b[38;5;28;01mreturn\u001b[39;00m ret\u001b[38;5;241m.\u001b[39mtoarray()\n",
      "\u001b[0;31mKeyboardInterrupt\u001b[0m: "
     ]
    }
   ],
   "source": [
    "\n",
    "# Step 1: Check for NaN and infinity values in scaled data and replace them\n",
    "print(\"Checking for NaN and infinity values in scaled data...\")\n",
    "X_train_sampled_scaled = np.nan_to_num(X_train_sampled_scaled, nan=0.0, posinf=0.0, neginf=0.0)\n",
    "X_test_reduced_scaled = np.nan_to_num(X_test_reduced_scaled, nan=0.0, posinf=0.0, neginf=0.0)\n",
    "print(\"Data cleaned.\")\n",
    "\n",
    "# Range of n_neighbors to test\n",
    "n_neighbors_values = [20, 50, 70, 100]\n",
    "accuracies = {}\n",
    "\n",
    "print(\"\\n=== TESTING DIFFERENT VALUES OF n_neighbors ===\")\n",
    "\n",
    "# Loop through each value of n_neighbors\n",
    "for n in n_neighbors_values:\n",
    "    print(f\"\\nTesting n_neighbors={n}...\")\n",
    "    start_time = time.time()  # Track start time\n",
    "    \n",
    "    # Initialize the KNeighborsClassifier with current n_neighbors and 'distance' weight\n",
    "    model = KNeighborsClassifier(n_neighbors=n, weights='distance')\n",
    "    \n",
    "    # Train the model on the reduced and scaled training data\n",
    "    model.fit(X_train_sampled_scaled, Y_train_sampled)\n",
    "    \n",
    "    # Predict on the reduced and scaled test set\n",
    "    Y_test_predictions = model.predict(X_test_reduced_scaled)\n",
    "    \n",
    "    # Calculate and store the accuracy\n",
    "    accuracy = accuracy_score(Y_test, Y_test_predictions)\n",
    "    accuracies[n] = accuracy\n",
    "    elapsed_time = time.time() - start_time  # Track end time\n",
    "    print(f\"Accuracy with n_neighbors={n}: {accuracy:.4f} (Time taken: {elapsed_time:.2f} seconds)\")\n",
    "\n",
    "# Display accuracies for all tested n_neighbors\n",
    "print(\"\\n=== Accuracies for different n_neighbors values ===\")\n",
    "for n, acc in accuracies.items():\n",
    "    print(f\"n_neighbors={n}: {acc:.4f}\")\n",
    "\n",
    "# Identify the best n_neighbors based on highest accuracy\n",
    "best_n = max(accuracies, key=accuracies.get)\n",
    "print(f\"\\nBest n_neighbors based on accuracy: {best_n} with accuracy {accuracies[best_n]:.4f}\")"
   ]
  },
  {
   "cell_type": "code",
   "execution_count": 15,
   "metadata": {},
   "outputs": [
    {
     "name": "stdout",
     "output_type": "stream",
     "text": [
      "Training the KNN model with n_neighbors=100 on the sampled and scaled training data...\n",
      "Model training completed in 0.02 seconds.\n",
      "Predicting on the reduced and scaled test set...\n",
      "Predicting on the reduced and scaled test set...\n",
      "Predictions on the test set completed in 836.61 seconds.\n",
      "Predictions on the test set:\n",
      "[5. 5. 3. 5. 1. 5. 5. 4. 5. 5.]\n",
      "Predictions on the test set completed.\n"
     ]
    }
   ],
   "source": [
    "# Initialize and train the KNN model with the chosen n_neighbors (e.g., 100)\n",
    "\n",
    "print(\"Training the KNN model with n_neighbors=100 on the sampled and scaled training data...\")\n",
    "start_time = time.time() \n",
    "model = KNeighborsClassifier(n_neighbors=100, weights='distance')\n",
    "model.fit(X_train_sampled_scaled, Y_train_sampled)\n",
    "\n",
    "train_time = time.time() - start_time  # Calculate training time\n",
    "print(f\"Model training completed in {train_time:.2f} seconds.\")\n",
    "\n",
    "print(\"Predicting on the reduced and scaled test set...\")\n",
    "start_time = time.time() \n",
    "# Predict the scores on the reduced and scaled test data\n",
    "print(\"Predicting on the reduced and scaled test set...\")\n",
    "Y_test_predictions = model.predict(X_test_reduced_scaled)\n",
    "\n",
    "predict_time = time.time() - start_time  # Calculate prediction time\n",
    "print(f\"Predictions on the test set completed in {predict_time:.2f} seconds.\")\n",
    "\n",
    "print(\"Predictions on the test set:\")\n",
    "print(Y_test_predictions[:10]) \n",
    "\n",
    "# Display predictions for verification (optional)\n",
    "print(\"Predictions on the test set completed.\")"
   ]
  },
  {
   "cell_type": "markdown",
   "metadata": {},
   "source": [
    "# Model Evaluation"
   ]
  },
  {
   "cell_type": "code",
   "execution_count": 16,
   "metadata": {},
   "outputs": [
    {
     "name": "stdout",
     "output_type": "stream",
     "text": [
      "Accuracy on testing set =  0.5777409138893078\n"
     ]
    },
    {
     "data": {
      "image/png": "[encoded data removed]",
      "text/plain": [
       "<Figure size 432x288 with 2 Axes>"
      ]
     },
     "metadata": {
      "needs_background": "light"
     },
     "output_type": "display_data"
    }
   ],
   "source": [
    "# Evaluate your model on the testing set\n",
    "print(\"Accuracy on testing set = \", accuracy_score(Y_test, Y_test_predictions))\n",
    "\n",
    "# Plot a confusion matrix\n",
    "cm = confusion_matrix(Y_test, Y_test_predictions, normalize='true')\n",
    "sns.heatmap(cm, annot=True)\n",
    "plt.title('Confusion matrix of the classifier')\n",
    "plt.xlabel('Predicted')\n",
    "plt.ylabel('True')\n",
    "plt.show()"
   ]
  },
  {
   "cell_type": "markdown",
   "metadata": {},
   "source": [
    "# Create submission file"
   ]
  },
  {
   "cell_type": "code",
   "execution_count": 19,
   "metadata": {},
   "outputs": [],
   "source": [
    "# Re-select features in X_submission to match the trained model's features\n",
    "selected_features = original_features + selected_svd_features  # Use features identified during training\n",
    "X_submission_reduced = X_submission[selected_features]\n",
    "\n",
    "# Apply the same scaling as was done for training\n",
    "X_submission_reduced_scaled = scaler.transform(X_submission_reduced)\n",
    "\n",
    "# Clean any NaN or infinite values in X_submission_reduced_scaled\n",
    "X_submission_reduced_scaled = np.nan_to_num(X_submission_reduced_scaled, nan=0.0, posinf=0.0, neginf=0.0)"
   ]
  },
  {
   "cell_type": "code",
   "execution_count": 21,
   "metadata": {},
   "outputs": [],
   "source": [
    "# Create the submission file\n",
    "X_submission['Score'] = model.predict(X_submission_reduced_scaled)\n",
    "submission = X_submission[['Id', 'Score']]\n",
    "submission.to_csv(\"./submission.csv\", index=False)"
   ]
  },
  {
   "cell_type": "code",
   "execution_count": 22,
   "metadata": {},
   "outputs": [
    {
     "name": "stdout",
     "output_type": "stream",
     "text": [
      "Number of rows in submission: 212192\n"
     ]
    }
   ],
   "source": [
    "print(f\"Number of rows in submission: {len(submission)}\")"
   ]
  }
 ],
 "metadata": {
  "kernelspec": {
   "display_name": "Python 3 (ipykernel)",
   "language": "python",
   "name": "python3"
  },
  "language_info": {
   "codemirror_mode": {
    "name": "ipython",
    "version": 3
   },
   "file_extension": ".py",
   "mimetype": "text/x-python",
   "name": "python",
   "nbconvert_exporter": "python",
   "pygments_lexer": "ipython3",
   "version": "3.9.12"
  }
 },
 "nbformat": 4,
 "nbformat_minor": 2
}
